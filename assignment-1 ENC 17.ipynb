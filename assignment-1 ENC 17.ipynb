{
 "cells": [
  {
   "cell_type": "code",
   "execution_count": 1,
   "id": "63b72b7f",
   "metadata": {},
   "outputs": [
    {
     "data": {
      "text/plain": [
       "8"
      ]
     },
     "execution_count": 1,
     "metadata": {},
     "output_type": "execute_result"
    }
   ],
   "source": [
    "name= ('sharvari')\n",
    "len(name)"
   ]
  },
  {
   "cell_type": "code",
   "execution_count": 2,
   "id": "8abd458b",
   "metadata": {},
   "outputs": [
    {
     "data": {
      "text/plain": [
       "2.8284271247461903"
      ]
     },
     "execution_count": 2,
     "metadata": {},
     "output_type": "execute_result"
    }
   ],
   "source": [
    "import math\n",
    "num=8\n",
    "math.sqrt(num)"
   ]
  },
  {
   "cell_type": "code",
   "execution_count": 4,
   "id": "77b618e4",
   "metadata": {},
   "outputs": [
    {
     "name": "stdout",
     "output_type": "stream",
     "text": [
      "enter temperature in celcius85\n",
      "temperature in farenhite is 185.0\n"
     ]
    }
   ],
   "source": [
    "temp= int (input('enter temperature in celcius'))\n",
    "temp_f= temp* (9/5)+32\n",
    "print('temperature in farenhite is', temp_f)"
   ]
  },
  {
   "cell_type": "code",
   "execution_count": 6,
   "id": "4d18b7d3",
   "metadata": {},
   "outputs": [
    {
     "name": "stdout",
     "output_type": "stream",
     "text": [
      "10 is of type <class 'int'>\n",
      "4.5 is of type <class 'float'>\n",
      "(2+6j) is of type <class 'complex'>\n"
     ]
    }
   ],
   "source": [
    "num1 = 10\n",
    "print(num1, 'is of type', type(num1))\n",
    "\n",
    "num2 = 4.5\n",
    "print(num2, 'is of type', type(num2))\n",
    "\n",
    "num3 = 2+6j\n",
    "print(num3, 'is of type', type(num3))"
   ]
  },
  {
   "cell_type": "code",
   "execution_count": null,
   "id": "c6482f3b",
   "metadata": {},
   "outputs": [],
   "source": []
  }
 ],
 "metadata": {
  "kernelspec": {
   "display_name": "Python 3 (ipykernel)",
   "language": "python",
   "name": "python3"
  },
  "language_info": {
   "codemirror_mode": {
    "name": "ipython",
    "version": 3
   },
   "file_extension": ".py",
   "mimetype": "text/x-python",
   "name": "python",
   "nbconvert_exporter": "python",
   "pygments_lexer": "ipython3",
   "version": "3.9.12"
  }
 },
 "nbformat": 4,
 "nbformat_minor": 5
}
